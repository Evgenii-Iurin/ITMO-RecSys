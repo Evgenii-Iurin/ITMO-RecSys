{
  "cells": [
    {
      "cell_type": "markdown",
      "id": "cd125b2b",
      "metadata": {
        "id": "cd125b2b"
      },
      "source": [
        "Before you turn this problem in, make sure everything runs as expected. First, **restart the kernel** (in the menubar, select Kernel $\\rightarrow$ Restart) and then **run all cells** (in the menubar, select Cell $\\rightarrow$ Run All).\n",
        "\n",
        "Make sure you fill in any place that says `YOUR CODE HERE` or \"YOUR ANSWER HERE\", as well as your name and collaborators below:"
      ]
    },
    {
      "cell_type": "code",
      "execution_count": null,
      "id": "a89391ba",
      "metadata": {
        "id": "a89391ba"
      },
      "outputs": [],
      "source": [
        "NAME = \"\"\n",
        "COLLABORATORS = \"\""
      ]
    },
    {
      "cell_type": "markdown",
      "id": "ecae16b6",
      "metadata": {
        "id": "ecae16b6"
      },
      "source": [
        "---"
      ]
    },
    {
      "cell_type": "markdown",
      "id": "8c9daa20-4463-4c29-86d7-e8b55a836d6a",
      "metadata": {
        "deletable": false,
        "editable": false,
        "id": "8c9daa20-4463-4c29-86d7-e8b55a836d6a",
        "nbgrader": {
          "cell_type": "markdown",
          "checksum": "36b30e8ebeb12fc2f6ea4f594d3e840a",
          "grade": false,
          "grade_id": "cell-11e06e57608fe1f3",
          "locked": true,
          "schema_version": 3,
          "solution": false,
          "task": false
        }
      },
      "source": [
        "# Домашнее задание №4. Матричная факторизация\n",
        "\n",
        "## Задачи - 25 баллов (+5 доп баллов)\n",
        "1. Ноутбук `mf.ipynb` - 20 баллов\n",
        "- ImplicitALS - 4 балла\n",
        "- SVD - 4 балла\n",
        "- Dataset with features - 2 балла\n",
        "- ImplicitALS with features - 5 баллов\n",
        "- LightFM with features - 5 баллов\n",
        "2. Имплементация модели в сервис - 5 баллов\n",
        "- Пробить на Leaderboard порог `map@10 = 0.075`\n",
        "- Если при этом используете MF (Implicit или LightFM) + ANN (nmslib, faiss, annoy и тд) - дополнительно 5 баллов\n",
        "  \n",
        "## Как сдать ноутбук `mf.ipynb` на проверку\n",
        "\n",
        "1. Прогоните весь код ноутбука - проверьте, что нет ошибок и тесты проходят\n",
        "2. Выложите готовый ноутбук в ваш репозиторий с сервисом из домашнего задания №1 по пути `notebooks/hw_4/mf.ipynb` в ветке `hw_4`\n",
        "3. Проверьте, что есть доступ к вашему репозиторию для аккаунтов `https://github.com/feldlime`\n",
        "4. Откройте PR в main ветку и добавьте в ревьюеры **своего ментора**\n",
        "5. Не проводите мердж в `main` ветку, пока не увидите оценку за это ДЗ в ведомости. Файл с ноутбуком должен находиться в ветке `hw_4`\n",
        "\n",
        "Обратите внимание, что сборка ноутбуков на проверку автоматизирована. В случае неправильного пути, имени файла или ветки (а также при отсутствии доступа у `@feldlime`) ваша работа не попадёт на проверку и получит `0` баллов."
      ]
    },
    {
      "cell_type": "markdown",
      "id": "a23ee5c6-55f6-4a47-89ca-9061a7f2e37e",
      "metadata": {
        "deletable": false,
        "editable": false,
        "id": "a23ee5c6-55f6-4a47-89ca-9061a7f2e37e",
        "nbgrader": {
          "cell_type": "markdown",
          "checksum": "2cc951d771fd1e9022ef563d86fccded",
          "grade": false,
          "grade_id": "cell-65f5b3c366201732",
          "locked": true,
          "schema_version": 3,
          "solution": false,
          "task": false
        }
      },
      "source": [
        "Используемые библиотеки в рамках ДЗ\n",
        "```bash\n",
        "pip install implicit==0.7.2 requests==2.32.3 rectools[lightfm]==0.12.0 pandas==2.2.3 numpy==1.26.4 scipy==1.12.0\n",
        "```"
      ]
    },
    {
      "cell_type": "code",
      "execution_count": 1,
      "id": "x6MB6VfuT6iP",
      "metadata": {
        "colab": {
          "base_uri": "https://localhost:8080/"
        },
        "id": "x6MB6VfuT6iP",
        "outputId": "9a692950-cb3c-482d-82a4-f708d5ae8a07"
      },
      "outputs": [
        {
          "name": "stdout",
          "output_type": "stream",
          "text": [
            "Requirement already satisfied: implicit==0.7.2 in /usr/local/lib/python3.11/dist-packages (0.7.2)\n",
            "Requirement already satisfied: requests==2.32.3 in /usr/local/lib/python3.11/dist-packages (2.32.3)\n",
            "Requirement already satisfied: rectools==0.12.0 in /usr/local/lib/python3.11/dist-packages (from rectools[lightfm]==0.12.0) (0.12.0)\n",
            "Requirement already satisfied: pandas==2.2.2 in /usr/local/lib/python3.11/dist-packages (2.2.2)\n",
            "Requirement already satisfied: numpy==1.26.4 in /usr/local/lib/python3.11/dist-packages (1.26.4)\n",
            "Requirement already satisfied: scipy==1.12.0 in /usr/local/lib/python3.11/dist-packages (1.12.0)\n",
            "Requirement already satisfied: optuna in /usr/local/lib/python3.11/dist-packages (4.2.1)\n",
            "Requirement already satisfied: tqdm>=4.27 in /usr/local/lib/python3.11/dist-packages (from implicit==0.7.2) (4.67.1)\n",
            "Requirement already satisfied: threadpoolctl in /usr/local/lib/python3.11/dist-packages (from implicit==0.7.2) (3.6.0)\n",
            "Requirement already satisfied: charset-normalizer<4,>=2 in /usr/local/lib/python3.11/dist-packages (from requests==2.32.3) (3.4.1)\n",
            "Requirement already satisfied: idna<4,>=2.5 in /usr/local/lib/python3.11/dist-packages (from requests==2.32.3) (3.10)\n",
            "Requirement already satisfied: urllib3<3,>=1.21.1 in /usr/local/lib/python3.11/dist-packages (from requests==2.32.3) (2.3.0)\n",
            "Requirement already satisfied: certifi>=2017.4.17 in /usr/local/lib/python3.11/dist-packages (from requests==2.32.3) (2025.1.31)\n",
            "Requirement already satisfied: attrs<24.0.0,>=19.1.0 in /usr/local/lib/python3.11/dist-packages (from rectools==0.12.0->rectools[lightfm]==0.12.0) (23.2.0)\n",
            "Requirement already satisfied: pydantic<3.0.0,>=2.8.2 in /usr/local/lib/python3.11/dist-packages (from rectools==0.12.0->rectools[lightfm]==0.12.0) (2.11.2)\n",
            "Requirement already satisfied: pydantic-core<3.0.0,>=2.20.1 in /usr/local/lib/python3.11/dist-packages (from rectools==0.12.0->rectools[lightfm]==0.12.0) (2.33.1)\n",
            "Requirement already satisfied: typeguard<5.0.0,>=4.1.0 in /usr/local/lib/python3.11/dist-packages (from rectools==0.12.0->rectools[lightfm]==0.12.0) (4.4.2)\n",
            "Requirement already satisfied: typing-extensions<5.0.0,>=4.12.2 in /usr/local/lib/python3.11/dist-packages (from rectools==0.12.0->rectools[lightfm]==0.12.0) (4.13.1)\n",
            "Requirement already satisfied: python-dateutil>=2.8.2 in /usr/local/lib/python3.11/dist-packages (from pandas==2.2.2) (2.8.2)\n",
            "Requirement already satisfied: pytz>=2020.1 in /usr/local/lib/python3.11/dist-packages (from pandas==2.2.2) (2025.2)\n",
            "Requirement already satisfied: tzdata>=2022.7 in /usr/local/lib/python3.11/dist-packages (from pandas==2.2.2) (2025.2)\n",
            "Requirement already satisfied: rectools-lightfm<2.0.0,>=1.17.3 in /usr/local/lib/python3.11/dist-packages (from rectools[lightfm]==0.12.0) (1.17.3)\n",
            "Requirement already satisfied: alembic>=1.5.0 in /usr/local/lib/python3.11/dist-packages (from optuna) (1.15.2)\n",
            "Requirement already satisfied: colorlog in /usr/local/lib/python3.11/dist-packages (from optuna) (6.9.0)\n",
            "Requirement already satisfied: packaging>=20.0 in /usr/local/lib/python3.11/dist-packages (from optuna) (24.2)\n",
            "Requirement already satisfied: sqlalchemy>=1.4.2 in /usr/local/lib/python3.11/dist-packages (from optuna) (2.0.40)\n",
            "Requirement already satisfied: PyYAML in /usr/local/lib/python3.11/dist-packages (from optuna) (6.0.2)\n",
            "Requirement already satisfied: Mako in /usr/lib/python3/dist-packages (from alembic>=1.5.0->optuna) (1.1.3)\n",
            "Requirement already satisfied: annotated-types>=0.6.0 in /usr/local/lib/python3.11/dist-packages (from pydantic<3.0.0,>=2.8.2->rectools==0.12.0->rectools[lightfm]==0.12.0) (0.7.0)\n",
            "Requirement already satisfied: typing-inspection>=0.4.0 in /usr/local/lib/python3.11/dist-packages (from pydantic<3.0.0,>=2.8.2->rectools==0.12.0->rectools[lightfm]==0.12.0) (0.4.0)\n",
            "Requirement already satisfied: six>=1.5 in /usr/local/lib/python3.11/dist-packages (from python-dateutil>=2.8.2->pandas==2.2.2) (1.17.0)\n",
            "Requirement already satisfied: scikit-learn in /usr/local/lib/python3.11/dist-packages (from rectools-lightfm<2.0.0,>=1.17.3->rectools[lightfm]==0.12.0) (1.6.1)\n",
            "Requirement already satisfied: greenlet>=1 in /usr/local/lib/python3.11/dist-packages (from sqlalchemy>=1.4.2->optuna) (3.1.1)\n",
            "Requirement already satisfied: joblib>=1.2.0 in /usr/local/lib/python3.11/dist-packages (from scikit-learn->rectools-lightfm<2.0.0,>=1.17.3->rectools[lightfm]==0.12.0) (1.4.2)\n"
          ]
        }
      ],
      "source": [
        "!pip install implicit==0.7.2 requests==2.32.3 rectools[lightfm]==0.12.0 pandas==2.2.2 numpy==1.26.4 scipy==1.12.0 optuna"
      ]
    },
    {
      "cell_type": "markdown",
      "id": "4d49cde7-2156-468a-b3e2-e8467e241cf8",
      "metadata": {
        "deletable": false,
        "editable": false,
        "id": "4d49cde7-2156-468a-b3e2-e8467e241cf8",
        "nbgrader": {
          "cell_type": "markdown",
          "checksum": "32f8a416541b1f30170e4fa36b916dde",
          "grade": false,
          "grade_id": "cell-1891eaa3c13c8609",
          "locked": true,
          "schema_version": 3,
          "solution": false,
          "task": false
        }
      },
      "source": [
        "## Импорты и данные"
      ]
    },
    {
      "cell_type": "code",
      "execution_count": 2,
      "id": "e3591f25-aedf-42b5-8b65-1f02e51d3020",
      "metadata": {
        "colab": {
          "base_uri": "https://localhost:8080/"
        },
        "deletable": false,
        "editable": false,
        "id": "e3591f25-aedf-42b5-8b65-1f02e51d3020",
        "nbgrader": {
          "cell_type": "code",
          "checksum": "5d3560d43412588c0bb9bd078a42470b",
          "grade": false,
          "grade_id": "cell-1ebdc35957207757",
          "locked": true,
          "schema_version": 3,
          "solution": false,
          "task": false
        },
        "outputId": "b711e293-49be-4730-fba0-00e3f916b127"
      },
      "outputs": [
        {
          "data": {
            "text/plain": [
              "<threadpoolctl.threadpool_limits at 0x7b18430cca50>"
            ]
          },
          "execution_count": 2,
          "metadata": {},
          "output_type": "execute_result"
        }
      ],
      "source": [
        "import os\n",
        "import threadpoolctl\n",
        "import requests\n",
        "\n",
        "import numpy as np\n",
        "import pandas as pd\n",
        "import zipfile as zf\n",
        "\n",
        "from tqdm.auto import tqdm\n",
        "from implicit.als import AlternatingLeastSquares\n",
        "from lightfm import LightFM\n",
        "\n",
        "from rectools import Columns\n",
        "from rectools.metrics import MAP, MeanInvUserFreq\n",
        "from rectools.dataset import Dataset\n",
        "from rectools.models import PureSVDModel, ImplicitALSWrapperModel, LightFMWrapperModel, model_from_config\n",
        "\n",
        "# For implicit ALS\n",
        "os.environ[\"OPENBLAS_NUM_THREADS\"] = \"1\"\n",
        "threadpoolctl.threadpool_limits(1, \"blas\")"
      ]
    },
    {
      "cell_type": "markdown",
      "id": "0265ea46-e840-452d-b43b-343cbb7eb160",
      "metadata": {
        "deletable": false,
        "editable": false,
        "id": "0265ea46-e840-452d-b43b-343cbb7eb160",
        "nbgrader": {
          "cell_type": "markdown",
          "checksum": "3add5c8603bcb94148ba538219a4b475",
          "grade": false,
          "grade_id": "cell-42bc3babcb8ca15b",
          "locked": true,
          "schema_version": 3,
          "solution": false,
          "task": false
        }
      },
      "source": [
        "Если вдруг у вас нет данных, то используйте закомментированный код"
      ]
    },
    {
      "cell_type": "code",
      "execution_count": null,
      "id": "f385743a-3642-4152-82bd-e4eca87130bd",
      "metadata": {
        "deletable": false,
        "editable": false,
        "id": "f385743a-3642-4152-82bd-e4eca87130bd",
        "nbgrader": {
          "cell_type": "code",
          "checksum": "232f52aebc14ef6476d381c2ad6032ce",
          "grade": false,
          "grade_id": "cell-51b8d9a8dc0e0600",
          "locked": true,
          "schema_version": 3,
          "solution": false,
          "task": false
        }
      },
      "outputs": [],
      "source": [
        "# url = 'https://github.com/irsafilo/KION_DATASET/raw/f69775be31fa5779907cf0a92ddedb70037fb5ae/data_original.zip'\n",
        "\n",
        "# req = requests.get(url, stream=True)\n",
        "\n",
        "# with open('kion.zip', 'wb') as fd:\n",
        "#     total_size_in_bytes = int(req.headers.get('Content-Length', 0))\n",
        "#     progress_bar = tqdm(desc='kion dataset download', total=total_size_in_bytes, unit='iB', unit_scale=True)\n",
        "#     for chunk in req.iter_content(chunk_size=2 ** 20):\n",
        "#         progress_bar.update(len(chunk))\n",
        "#         fd.write(chunk)\n",
        "\n",
        "# files = zf.ZipFile('kion.zip', 'r')\n",
        "# files.extractall()\n",
        "# files.close()"
      ]
    },
    {
      "cell_type": "code",
      "execution_count": 3,
      "id": "bJNsSywVTxID",
      "metadata": {
        "colab": {
          "base_uri": "https://localhost:8080/",
          "height": 49,
          "referenced_widgets": [
            "4b6827a906fa4a88a4d7bf56a7ced748",
            "5be428e1a443456a9aab6df23b0254d0",
            "83dea24ebd1f4a64b44d587c640853ce",
            "4bc238f7cc7b4c0894b2a8ef6f944e66",
            "1bfb430349d0409d97af3e58f872a0a4",
            "7b6cb909be70433c8c9a6f17b0964f4b",
            "c41cfcb85411461a8e5f4b2938d89855",
            "0a85f2ee86a14bc99c0fcc2f5460e6b1",
            "fd737ae1d5fc4ecbba5fce074a9e9bce",
            "8c934d79d5d44828a3cd457ca65cac4a",
            "b770ad2f780d43388f7cebb124b4d91b"
          ]
        },
        "id": "bJNsSywVTxID",
        "outputId": "fa5d9aea-69bf-46da-a155-073cf20fb3af"
      },
      "outputs": [
        {
          "data": {
            "application/vnd.jupyter.widget-view+json": {
              "model_id": "4b6827a906fa4a88a4d7bf56a7ced748",
              "version_major": 2,
              "version_minor": 0
            },
            "text/plain": [
              "kion dataset download:   0%|          | 0.00/78.8M [00:00<?, ?iB/s]"
            ]
          },
          "metadata": {},
          "output_type": "display_data"
        }
      ],
      "source": [
        "url = 'https://github.com/irsafilo/KION_DATASET/raw/f69775be31fa5779907cf0a92ddedb70037fb5ae/data_original.zip'\n",
        "\n",
        "req = requests.get(url, stream=True)\n",
        "\n",
        "with open('kion.zip', 'wb') as fd:\n",
        "    total_size_in_bytes = int(req.headers.get('Content-Length', 0))\n",
        "    progress_bar = tqdm(desc='kion dataset download', total=total_size_in_bytes, unit='iB', unit_scale=True)\n",
        "    for chunk in req.iter_content(chunk_size=2 ** 20):\n",
        "        progress_bar.update(len(chunk))\n",
        "        fd.write(chunk)\n",
        "\n",
        "files = zf.ZipFile('kion.zip', 'r')\n",
        "files.extractall()\n",
        "files.close()"
      ]
    },
    {
      "cell_type": "code",
      "execution_count": 4,
      "id": "2e1b9888-cdc7-47a3-9162-a1ae7de7144e",
      "metadata": {
        "colab": {
          "base_uri": "https://localhost:8080/",
          "height": 224
        },
        "deletable": false,
        "editable": false,
        "id": "2e1b9888-cdc7-47a3-9162-a1ae7de7144e",
        "nbgrader": {
          "cell_type": "code",
          "checksum": "4ca1c8989d0a4dc05a6f530e86d11d7e",
          "grade": false,
          "grade_id": "cell-a1b82be4e2c39f91",
          "locked": true,
          "schema_version": 3,
          "solution": false,
          "task": false
        },
        "outputId": "e1ce094b-411f-4d11-9472-868a5c72eafd"
      },
      "outputs": [
        {
          "name": "stdout",
          "output_type": "stream",
          "text": [
            "(5476251, 5)\n"
          ]
        },
        {
          "data": {
            "application/vnd.google.colaboratory.intrinsic+json": {
              "type": "dataframe",
              "variable_name": "interactions"
            },
            "text/html": [
              "\n",
              "  <div id=\"df-34a2d641-312b-485c-a290-b999ed5dc34f\" class=\"colab-df-container\">\n",
              "    <div>\n",
              "<style scoped>\n",
              "    .dataframe tbody tr th:only-of-type {\n",
              "        vertical-align: middle;\n",
              "    }\n",
              "\n",
              "    .dataframe tbody tr th {\n",
              "        vertical-align: top;\n",
              "    }\n",
              "\n",
              "    .dataframe thead th {\n",
              "        text-align: right;\n",
              "    }\n",
              "</style>\n",
              "<table border=\"1\" class=\"dataframe\">\n",
              "  <thead>\n",
              "    <tr style=\"text-align: right;\">\n",
              "      <th></th>\n",
              "      <th>user_id</th>\n",
              "      <th>item_id</th>\n",
              "      <th>datetime</th>\n",
              "      <th>weight</th>\n",
              "      <th>watched_pct</th>\n",
              "    </tr>\n",
              "  </thead>\n",
              "  <tbody>\n",
              "    <tr>\n",
              "      <th>0</th>\n",
              "      <td>176549</td>\n",
              "      <td>9506</td>\n",
              "      <td>2021-05-11</td>\n",
              "      <td>4250</td>\n",
              "      <td>72.0</td>\n",
              "    </tr>\n",
              "    <tr>\n",
              "      <th>1</th>\n",
              "      <td>699317</td>\n",
              "      <td>1659</td>\n",
              "      <td>2021-05-29</td>\n",
              "      <td>8317</td>\n",
              "      <td>100.0</td>\n",
              "    </tr>\n",
              "    <tr>\n",
              "      <th>2</th>\n",
              "      <td>656683</td>\n",
              "      <td>7107</td>\n",
              "      <td>2021-05-09</td>\n",
              "      <td>10</td>\n",
              "      <td>0.0</td>\n",
              "    </tr>\n",
              "    <tr>\n",
              "      <th>3</th>\n",
              "      <td>864613</td>\n",
              "      <td>7638</td>\n",
              "      <td>2021-07-05</td>\n",
              "      <td>14483</td>\n",
              "      <td>100.0</td>\n",
              "    </tr>\n",
              "    <tr>\n",
              "      <th>4</th>\n",
              "      <td>964868</td>\n",
              "      <td>9506</td>\n",
              "      <td>2021-04-30</td>\n",
              "      <td>6725</td>\n",
              "      <td>100.0</td>\n",
              "    </tr>\n",
              "  </tbody>\n",
              "</table>\n",
              "</div>\n",
              "    <div class=\"colab-df-buttons\">\n",
              "\n",
              "  <div class=\"colab-df-container\">\n",
              "    <button class=\"colab-df-convert\" onclick=\"convertToInteractive('df-34a2d641-312b-485c-a290-b999ed5dc34f')\"\n",
              "            title=\"Convert this dataframe to an interactive table.\"\n",
              "            style=\"display:none;\">\n",
              "\n",
              "  <svg xmlns=\"http://www.w3.org/2000/svg\" height=\"24px\" viewBox=\"0 -960 960 960\">\n",
              "    <path d=\"M120-120v-720h720v720H120Zm60-500h600v-160H180v160Zm220 220h160v-160H400v160Zm0 220h160v-160H400v160ZM180-400h160v-160H180v160Zm440 0h160v-160H620v160ZM180-180h160v-160H180v160Zm440 0h160v-160H620v160Z\"/>\n",
              "  </svg>\n",
              "    </button>\n",
              "\n",
              "  <style>\n",
              "    .colab-df-container {\n",
              "      display:flex;\n",
              "      gap: 12px;\n",
              "    }\n",
              "\n",
              "    .colab-df-convert {\n",
              "      background-color: #E8F0FE;\n",
              "      border: none;\n",
              "      border-radius: 50%;\n",
              "      cursor: pointer;\n",
              "      display: none;\n",
              "      fill: #1967D2;\n",
              "      height: 32px;\n",
              "      padding: 0 0 0 0;\n",
              "      width: 32px;\n",
              "    }\n",
              "\n",
              "    .colab-df-convert:hover {\n",
              "      background-color: #E2EBFA;\n",
              "      box-shadow: 0px 1px 2px rgba(60, 64, 67, 0.3), 0px 1px 3px 1px rgba(60, 64, 67, 0.15);\n",
              "      fill: #174EA6;\n",
              "    }\n",
              "\n",
              "    .colab-df-buttons div {\n",
              "      margin-bottom: 4px;\n",
              "    }\n",
              "\n",
              "    [theme=dark] .colab-df-convert {\n",
              "      background-color: #3B4455;\n",
              "      fill: #D2E3FC;\n",
              "    }\n",
              "\n",
              "    [theme=dark] .colab-df-convert:hover {\n",
              "      background-color: #434B5C;\n",
              "      box-shadow: 0px 1px 3px 1px rgba(0, 0, 0, 0.15);\n",
              "      filter: drop-shadow(0px 1px 2px rgba(0, 0, 0, 0.3));\n",
              "      fill: #FFFFFF;\n",
              "    }\n",
              "  </style>\n",
              "\n",
              "    <script>\n",
              "      const buttonEl =\n",
              "        document.querySelector('#df-34a2d641-312b-485c-a290-b999ed5dc34f button.colab-df-convert');\n",
              "      buttonEl.style.display =\n",
              "        google.colab.kernel.accessAllowed ? 'block' : 'none';\n",
              "\n",
              "      async function convertToInteractive(key) {\n",
              "        const element = document.querySelector('#df-34a2d641-312b-485c-a290-b999ed5dc34f');\n",
              "        const dataTable =\n",
              "          await google.colab.kernel.invokeFunction('convertToInteractive',\n",
              "                                                    [key], {});\n",
              "        if (!dataTable) return;\n",
              "\n",
              "        const docLinkHtml = 'Like what you see? Visit the ' +\n",
              "          '<a target=\"_blank\" href=https://colab.research.google.com/notebooks/data_table.ipynb>data table notebook</a>'\n",
              "          + ' to learn more about interactive tables.';\n",
              "        element.innerHTML = '';\n",
              "        dataTable['output_type'] = 'display_data';\n",
              "        await google.colab.output.renderOutput(dataTable, element);\n",
              "        const docLink = document.createElement('div');\n",
              "        docLink.innerHTML = docLinkHtml;\n",
              "        element.appendChild(docLink);\n",
              "      }\n",
              "    </script>\n",
              "  </div>\n",
              "\n",
              "\n",
              "<div id=\"df-c0ddddea-2bc9-4d78-8370-89c1a7616d0b\">\n",
              "  <button class=\"colab-df-quickchart\" onclick=\"quickchart('df-c0ddddea-2bc9-4d78-8370-89c1a7616d0b')\"\n",
              "            title=\"Suggest charts\"\n",
              "            style=\"display:none;\">\n",
              "\n",
              "<svg xmlns=\"http://www.w3.org/2000/svg\" height=\"24px\"viewBox=\"0 0 24 24\"\n",
              "     width=\"24px\">\n",
              "    <g>\n",
              "        <path d=\"M19 3H5c-1.1 0-2 .9-2 2v14c0 1.1.9 2 2 2h14c1.1 0 2-.9 2-2V5c0-1.1-.9-2-2-2zM9 17H7v-7h2v7zm4 0h-2V7h2v10zm4 0h-2v-4h2v4z\"/>\n",
              "    </g>\n",
              "</svg>\n",
              "  </button>\n",
              "\n",
              "<style>\n",
              "  .colab-df-quickchart {\n",
              "      --bg-color: #E8F0FE;\n",
              "      --fill-color: #1967D2;\n",
              "      --hover-bg-color: #E2EBFA;\n",
              "      --hover-fill-color: #174EA6;\n",
              "      --disabled-fill-color: #AAA;\n",
              "      --disabled-bg-color: #DDD;\n",
              "  }\n",
              "\n",
              "  [theme=dark] .colab-df-quickchart {\n",
              "      --bg-color: #3B4455;\n",
              "      --fill-color: #D2E3FC;\n",
              "      --hover-bg-color: #434B5C;\n",
              "      --hover-fill-color: #FFFFFF;\n",
              "      --disabled-bg-color: #3B4455;\n",
              "      --disabled-fill-color: #666;\n",
              "  }\n",
              "\n",
              "  .colab-df-quickchart {\n",
              "    background-color: var(--bg-color);\n",
              "    border: none;\n",
              "    border-radius: 50%;\n",
              "    cursor: pointer;\n",
              "    display: none;\n",
              "    fill: var(--fill-color);\n",
              "    height: 32px;\n",
              "    padding: 0;\n",
              "    width: 32px;\n",
              "  }\n",
              "\n",
              "  .colab-df-quickchart:hover {\n",
              "    background-color: var(--hover-bg-color);\n",
              "    box-shadow: 0 1px 2px rgba(60, 64, 67, 0.3), 0 1px 3px 1px rgba(60, 64, 67, 0.15);\n",
              "    fill: var(--button-hover-fill-color);\n",
              "  }\n",
              "\n",
              "  .colab-df-quickchart-complete:disabled,\n",
              "  .colab-df-quickchart-complete:disabled:hover {\n",
              "    background-color: var(--disabled-bg-color);\n",
              "    fill: var(--disabled-fill-color);\n",
              "    box-shadow: none;\n",
              "  }\n",
              "\n",
              "  .colab-df-spinner {\n",
              "    border: 2px solid var(--fill-color);\n",
              "    border-color: transparent;\n",
              "    border-bottom-color: var(--fill-color);\n",
              "    animation:\n",
              "      spin 1s steps(1) infinite;\n",
              "  }\n",
              "\n",
              "  @keyframes spin {\n",
              "    0% {\n",
              "      border-color: transparent;\n",
              "      border-bottom-color: var(--fill-color);\n",
              "      border-left-color: var(--fill-color);\n",
              "    }\n",
              "    20% {\n",
              "      border-color: transparent;\n",
              "      border-left-color: var(--fill-color);\n",
              "      border-top-color: var(--fill-color);\n",
              "    }\n",
              "    30% {\n",
              "      border-color: transparent;\n",
              "      border-left-color: var(--fill-color);\n",
              "      border-top-color: var(--fill-color);\n",
              "      border-right-color: var(--fill-color);\n",
              "    }\n",
              "    40% {\n",
              "      border-color: transparent;\n",
              "      border-right-color: var(--fill-color);\n",
              "      border-top-color: var(--fill-color);\n",
              "    }\n",
              "    60% {\n",
              "      border-color: transparent;\n",
              "      border-right-color: var(--fill-color);\n",
              "    }\n",
              "    80% {\n",
              "      border-color: transparent;\n",
              "      border-right-color: var(--fill-color);\n",
              "      border-bottom-color: var(--fill-color);\n",
              "    }\n",
              "    90% {\n",
              "      border-color: transparent;\n",
              "      border-bottom-color: var(--fill-color);\n",
              "    }\n",
              "  }\n",
              "</style>\n",
              "\n",
              "  <script>\n",
              "    async function quickchart(key) {\n",
              "      const quickchartButtonEl =\n",
              "        document.querySelector('#' + key + ' button');\n",
              "      quickchartButtonEl.disabled = true;  // To prevent multiple clicks.\n",
              "      quickchartButtonEl.classList.add('colab-df-spinner');\n",
              "      try {\n",
              "        const charts = await google.colab.kernel.invokeFunction(\n",
              "            'suggestCharts', [key], {});\n",
              "      } catch (error) {\n",
              "        console.error('Error during call to suggestCharts:', error);\n",
              "      }\n",
              "      quickchartButtonEl.classList.remove('colab-df-spinner');\n",
              "      quickchartButtonEl.classList.add('colab-df-quickchart-complete');\n",
              "    }\n",
              "    (() => {\n",
              "      let quickchartButtonEl =\n",
              "        document.querySelector('#df-c0ddddea-2bc9-4d78-8370-89c1a7616d0b button');\n",
              "      quickchartButtonEl.style.display =\n",
              "        google.colab.kernel.accessAllowed ? 'block' : 'none';\n",
              "    })();\n",
              "  </script>\n",
              "</div>\n",
              "\n",
              "    </div>\n",
              "  </div>\n"
            ],
            "text/plain": [
              "   user_id  item_id   datetime  weight  watched_pct\n",
              "0   176549     9506 2021-05-11    4250         72.0\n",
              "1   699317     1659 2021-05-29    8317        100.0\n",
              "2   656683     7107 2021-05-09      10          0.0\n",
              "3   864613     7638 2021-07-05   14483        100.0\n",
              "4   964868     9506 2021-04-30    6725        100.0"
            ]
          },
          "execution_count": 4,
          "metadata": {},
          "output_type": "execute_result"
        }
      ],
      "source": [
        "interactions = (\n",
        "    pd.read_csv('data_original/interactions.csv', parse_dates=[\"last_watch_dt\"])\n",
        "    .rename(columns={'total_dur': Columns.Weight,\n",
        "                     'last_watch_dt': Columns.Datetime})\n",
        ")\n",
        "users = pd.read_csv('data_original/users.csv')\n",
        "items = pd.read_csv('data_original/items.csv')\n",
        "\n",
        "print(interactions.shape)\n",
        "interactions.head(5)"
      ]
    },
    {
      "cell_type": "code",
      "execution_count": 5,
      "id": "ecfa3e3e-477e-449c-863f-83decd2a608f",
      "metadata": {
        "colab": {
          "base_uri": "https://localhost:8080/",
          "height": 127
        },
        "deletable": false,
        "editable": false,
        "id": "ecfa3e3e-477e-449c-863f-83decd2a608f",
        "nbgrader": {
          "cell_type": "code",
          "checksum": "1a4aa13aa9a65766719506af8f33e9e6",
          "grade": false,
          "grade_id": "cell-457223d68ac460f6",
          "locked": true,
          "schema_version": 3,
          "solution": false,
          "task": false
        },
        "outputId": "e2b75f44-dee9-4497-9392-96127dfc9111"
      },
      "outputs": [
        {
          "name": "stderr",
          "output_type": "stream",
          "text": [
            "<ipython-input-5-1c199764f35c>:11: SettingWithCopyWarning: \n",
            "A value is trying to be set on a copy of a slice from a DataFrame\n",
            "\n",
            "See the caveats in the documentation: https://pandas.pydata.org/pandas-docs/stable/user_guide/indexing.html#returning-a-view-versus-a-copy\n",
            "  test.drop(test[test[Columns.User].isin(cold_users)].index, inplace=True)\n"
          ]
        }
      ],
      "source": [
        "N_DAYS = 7\n",
        "\n",
        "max_date = interactions['datetime'].max()\n",
        "train = interactions[(interactions['datetime'] <= max_date - pd.Timedelta(days=N_DAYS))]\n",
        "test = interactions[(interactions['datetime'] > max_date - pd.Timedelta(days=N_DAYS))]\n",
        "\n",
        "catalog = train[Columns.Item].unique()\n",
        "\n",
        "test_users = test[Columns.User].unique()\n",
        "cold_users = set(test_users) - set(train[Columns.User])\n",
        "test.drop(test[test[Columns.User].isin(cold_users)].index, inplace=True)\n",
        "hot_users = test[Columns.User].unique()\n",
        "\n",
        "# dataset = Dataset.construct(train)"
      ]
    },
    {
      "cell_type": "code",
      "execution_count": 6,
      "id": "ce453ef0-8096-435a-a57d-9bd1e8a1bd92",
      "metadata": {
        "deletable": false,
        "editable": false,
        "id": "ce453ef0-8096-435a-a57d-9bd1e8a1bd92",
        "nbgrader": {
          "cell_type": "code",
          "checksum": "d8dfcef8f2158255895e0e01f6fd53fe",
          "grade": false,
          "grade_id": "cell-90b2240359478847",
          "locked": true,
          "schema_version": 3,
          "solution": false,
          "task": false
        }
      },
      "outputs": [],
      "source": [
        "K_RECOS = 10\n",
        "map10 = MAP(k=K_RECOS)"
      ]
    },
    {
      "cell_type": "markdown",
      "id": "bbf27eea-8d75-4c14-9783-c6a3b9e920cc",
      "metadata": {
        "deletable": false,
        "editable": false,
        "id": "bbf27eea-8d75-4c14-9783-c6a3b9e920cc",
        "nbgrader": {
          "cell_type": "markdown",
          "checksum": "ee2add9275ef7627b3eb97d6176bf2a8",
          "grade": false,
          "grade_id": "cell-cb516a6d62c42c95",
          "locked": true,
          "schema_version": 3,
          "solution": false,
          "task": false
        }
      },
      "source": [
        "## ImplicitALS\n",
        "\n",
        "### Ситуация:\n",
        "\n",
        "Коллега вернулся из отпуска и вы вместе сели за улучшение модели. Внимательно изучив репозиторий библиотеки implicit вы увидели модель iALS и решаете попробовать ее в деле.\n",
        "\n",
        "Чтобы работа была интереснее, вы заключаете пари с вашим коллегой о том, кто выбьет больше MAP@K на горячих пользователях.\n",
        "\n",
        "Правила пари:\n",
        "- Валидируемся на последней неделе (переменная `test`) и на горячих пользователях `hot_users`\n",
        "- Можно собрать свой `Dataset` на основе `train`, трансформированного, если нужно\n",
        "- Параметры модели задаются конфигом, которые будут передаваться в `model_from_config`\n",
        "\n",
        "У вашего коллеги получилось выбить на ImplicitALS `MAP@K = 0.052`. Ваша задача побить его рекорд."
      ]
    },
    {
      "cell_type": "code",
      "execution_count": 7,
      "id": "b1422084-1e37-4597-9071-ec5f06b4e0f7",
      "metadata": {
        "colab": {
          "base_uri": "https://localhost:8080/"
        },
        "deletable": false,
        "id": "b1422084-1e37-4597-9071-ec5f06b4e0f7",
        "nbgrader": {
          "cell_type": "code",
          "checksum": "1b3452ea47aae0550afd2d1819ad8131",
          "grade": false,
          "grade_id": "cell-9cc83595f9432cd2",
          "locked": false,
          "schema_version": 3,
          "solution": true,
          "task": false
        },
        "outputId": "0af984f8-9832-4c1f-a151-90ca746751f0"
      },
      "outputs": [
        {
          "name": "stderr",
          "output_type": "stream",
          "text": [
            "<ipython-input-7-ee39d18f83b6>:4: SettingWithCopyWarning: \n",
            "A value is trying to be set on a copy of a slice from a DataFrame.\n",
            "Try using .loc[row_indexer,col_indexer] = value instead\n",
            "\n",
            "See the caveats in the documentation: https://pandas.pydata.org/pandas-docs/stable/user_guide/indexing.html#returning-a-view-versus-a-copy\n",
            "  test[Columns.Weight] = np.where(test['watched_pct'] > 10, 3, 1)\n"
          ]
        }
      ],
      "source": [
        "# train preprocessing...\n",
        "train2 = train.copy()\n",
        "train2[Columns.Weight] = np.where(train2['watched_pct'] > 10, 3, 1)\n",
        "test[Columns.Weight] = np.where(test['watched_pct'] > 10, 3, 1)\n",
        "\n",
        "dataset = Dataset.construct(train2)"
      ]
    },
    {
      "cell_type": "code",
      "execution_count": null,
      "id": "9ZKxhOEJ39JN",
      "metadata": {
        "id": "9ZKxhOEJ39JN"
      },
      "outputs": [],
      "source": [
        "config = {\n",
        "    'cls': 'ImplicitALSWrapperModel',\n",
        "    'verbose': 1,\n",
        "    'model': {\n",
        "        'factors': 8,\n",
        "        'regularization': 0.17,\n",
        "        'iterations': 25,\n",
        "        'use_gpu': False,\n",
        "        'alpha': 15.0,\n",
        "        'random_state': 42,\n",
        "        'num_threads': 4\n",
        "    }\n",
        "}"
      ]
    },
    {
      "cell_type": "code",
      "execution_count": 15,
      "id": "53655cd3-8757-4d0c-a518-eb7ac2fbf703",
      "metadata": {
        "colab": {
          "base_uri": "https://localhost:8080/",
          "height": 103,
          "referenced_widgets": [
            "44a5cb9e78ed4ed39b68fb67fd1f3c9a",
            "5a0717662fbe4870bc7400e260621ca4",
            "2957c9c06523405885fb2ac1dc20e09b",
            "8c66f904699a401ca2094b57acf5ab23",
            "0356ee375b1c475c855ac9d2524b060a",
            "6bd66aad6b474703b51d5a5d57f9ee15",
            "e0bbabba39e847b08f811717c8b2df85",
            "a31e361539d4453686b0252a21d60346",
            "184e19d9e2814be0a15203b86b0ca546",
            "6a9f794e1d874c4285cb5403b3b6d399",
            "50382f18a7f2448a88618bf79fff2421"
          ]
        },
        "deletable": false,
        "editable": false,
        "id": "53655cd3-8757-4d0c-a518-eb7ac2fbf703",
        "nbgrader": {
          "cell_type": "code",
          "checksum": "495498ee54854e00401257321764ba0d",
          "grade": true,
          "grade_id": "cell-6c041ad93abfab9a",
          "locked": true,
          "points": 4,
          "schema_version": 3,
          "solution": false,
          "task": false
        },
        "outputId": "7850cbbe-acfe-4e68-d378-03f8dca96869"
      },
      "outputs": [
        {
          "data": {
            "application/vnd.jupyter.widget-view+json": {
              "model_id": "44a5cb9e78ed4ed39b68fb67fd1f3c9a",
              "version_major": 2,
              "version_minor": 0
            },
            "text/plain": [
              "  0%|          | 0/25 [00:00<?, ?it/s]"
            ]
          },
          "metadata": {},
          "output_type": "display_data"
        },
        {
          "name": "stdout",
          "output_type": "stream",
          "text": [
            "0.061096111011347716\n",
            "CPU times: user 2min 46s, sys: 6.8 s, total: 2min 53s\n",
            "Wall time: 1min 47s\n"
          ]
        }
      ],
      "source": [
        "%%time\n",
        "assert config['cls'] == 'ImplicitALSWrapperModel'\n",
        "\n",
        "model = model_from_config(config)\n",
        "model.fit(dataset)\n",
        "\n",
        "recos = model.recommend(\n",
        "    users=hot_users,\n",
        "    dataset=dataset,\n",
        "    k=K_RECOS,\n",
        "    filter_viewed=True,\n",
        ")\n",
        "print(map10.calc(recos, test))\n",
        "\n",
        "assert map10.calc(recos, test) >= 0.052"
      ]
    },
    {
      "cell_type": "markdown",
      "id": "efc4444f-df43-40fd-82eb-1490fe875e66",
      "metadata": {
        "deletable": false,
        "editable": false,
        "id": "efc4444f-df43-40fd-82eb-1490fe875e66",
        "nbgrader": {
          "cell_type": "markdown",
          "checksum": "ad54be3de464395333172c61b3dc2b04",
          "grade": false,
          "grade_id": "cell-0e332207e456475b",
          "locked": true,
          "schema_version": 3,
          "solution": false,
          "task": false
        }
      },
      "source": [
        "## SVD\n",
        "\n",
        "На ваш громкий спор с коллегой о том, что все дело в вашем удачном random seed, к вам подошел ваш лид.\n",
        "\n",
        "Узнав детали вашего спора, он дает вам комментарий, что iALS хороша, но погружение в матричную факторизацию следует начинать с `SVD`.\n",
        "\n",
        "Вы переглянулись с коллегой и решаете уладить спор о random seed во втором раунде, используя новую модель.\n",
        "\n",
        "Ваш коллега смогу выбить на SVD `MAP@K = 0.066`. Вы знаете, что делать."
      ]
    },
    {
      "cell_type": "code",
      "execution_count": null,
      "id": "061caaa5-197e-431a-be19-d2d5d45bcf77",
      "metadata": {
        "deletable": false,
        "id": "061caaa5-197e-431a-be19-d2d5d45bcf77",
        "nbgrader": {
          "cell_type": "code",
          "checksum": "fb069b2b657931bd000b904a1011d957",
          "grade": false,
          "grade_id": "cell-f1b963c73db09e3a",
          "locked": false,
          "schema_version": 3,
          "solution": true,
          "task": false
        }
      },
      "outputs": [],
      "source": [
        "# train preprocessing...\n",
        "# YOUR CODE HERE\n",
        "raise NotImplementedError()"
      ]
    },
    {
      "cell_type": "code",
      "execution_count": null,
      "id": "ee6a668e-6955-42a5-81a0-f43201eb7b17",
      "metadata": {
        "deletable": false,
        "editable": false,
        "id": "ee6a668e-6955-42a5-81a0-f43201eb7b17",
        "nbgrader": {
          "cell_type": "code",
          "checksum": "7442425085278d3f14732ef6fdaa6c74",
          "grade": true,
          "grade_id": "cell-366e2b318e3b502d",
          "locked": true,
          "points": 4,
          "schema_version": 3,
          "solution": false,
          "task": false
        }
      },
      "outputs": [],
      "source": [
        "%%time\n",
        "assert config['cls'] == 'PureSVDModel'\n",
        "\n",
        "model = model_from_config(config)\n",
        "model.fit(dataset2)\n",
        "\n",
        "recos = model.recommend(\n",
        "    users=hot_users,\n",
        "    dataset=dataset2,\n",
        "    k=K_RECOS,\n",
        "    filter_viewed=True,\n",
        ")\n",
        "print(map10.calc(recos, test))\n",
        "\n",
        "assert map10.calc(recos, test) >= 0.066"
      ]
    },
    {
      "cell_type": "markdown",
      "id": "a15c9a89-3727-4298-8f4c-fdc6c737f444",
      "metadata": {
        "deletable": false,
        "editable": false,
        "id": "a15c9a89-3727-4298-8f4c-fdc6c737f444",
        "nbgrader": {
          "cell_type": "markdown",
          "checksum": "77cc40214388de1a4cbcdfad0d43c99d",
          "grade": false,
          "grade_id": "cell-27880a79f53a4d38",
          "locked": true,
          "schema_version": 3,
          "solution": false,
          "task": false
        }
      },
      "source": [
        "## Dataset with features\n",
        "\n",
        "\"Ну это ни в какие ворота!\" - восклицает ваш коллега, увидев ваш победный конфиг. Из другого угла опенспейса доносится \"А я говорил\" от вашего лида.\n",
        "\n",
        "В это время к вам сзади подходит продакт и интересуется предметом вашего спора.\n",
        "\n",
        "Рассказав про особенности найденных вами моделей, он просит вас в них докинуть фичи, ведь на одних взаимодействиях далеко не уедешь.\n",
        "\n",
        "Вы согласились, ведь это отличная возможность продолжить пари. Соберите `Dataset` с фичами по пользователям и итемам, который вы будете использовать дальше\n"
      ]
    },
    {
      "cell_type": "code",
      "execution_count": null,
      "id": "a4401951-ae61-4b0b-af21-76bdee4d05a1",
      "metadata": {
        "deletable": false,
        "id": "a4401951-ae61-4b0b-af21-76bdee4d05a1",
        "nbgrader": {
          "cell_type": "code",
          "checksum": "b59f31697e1dfb1c96f50724c8cc8189",
          "grade": false,
          "grade_id": "cell-b0397a70b8235dd9",
          "locked": false,
          "schema_version": 3,
          "solution": true,
          "task": false
        }
      },
      "outputs": [],
      "source": [
        "# YOUR CODE HERE\n",
        "raise NotImplementedError()\n",
        "\n",
        "dataset_with_features = Dataset.construct(\n",
        "    interactions_df=train2,\n",
        "# YOUR CODE HERE\n",
        "raise NotImplementedError()\n",
        ")"
      ]
    },
    {
      "cell_type": "code",
      "execution_count": null,
      "id": "3ae33beb-75c5-452e-b765-728da8541f1a",
      "metadata": {
        "deletable": false,
        "editable": false,
        "id": "3ae33beb-75c5-452e-b765-728da8541f1a",
        "nbgrader": {
          "cell_type": "code",
          "checksum": "e5bd9f36f5935febfb3fd89aa0ceb858",
          "grade": true,
          "grade_id": "cell-7773b657b67af87b",
          "locked": true,
          "points": 2,
          "schema_version": 3,
          "solution": false,
          "task": false
        }
      },
      "outputs": [],
      "source": [
        "assert (dataset_with_features.user_features is not None) and (dataset_with_features.item_features is not None)"
      ]
    },
    {
      "cell_type": "markdown",
      "id": "c816b107-22ed-4d1b-a7dc-c24204918b27",
      "metadata": {
        "deletable": false,
        "editable": false,
        "id": "c816b107-22ed-4d1b-a7dc-c24204918b27",
        "nbgrader": {
          "cell_type": "markdown",
          "checksum": "ab7db39bce2b8ccce0a780e3844afe3c",
          "grade": false,
          "grade_id": "cell-cd998c54807b4e86",
          "locked": true,
          "schema_version": 3,
          "solution": false,
          "task": false
        }
      },
      "source": [
        "## ImplicitALS with features\n",
        "\n",
        "Собрав датасет с фичами вы готовы к третьему раунду пари.\n",
        "\n",
        "Вы решаете начать снова с `iALS`, до сих пор удивляясь результатам модели `SVD`.\n",
        "\n",
        "Ваш коллега изучил вашу технику подбора random seed и хитро улыбается вам.\n",
        "\n",
        "Он смог выбить `MAP@K = 0.073`, теперь ваш ход."
      ]
    },
    {
      "cell_type": "code",
      "execution_count": null,
      "id": "71a204d4-db2e-4733-8dac-1bac63672ea7",
      "metadata": {
        "deletable": false,
        "id": "71a204d4-db2e-4733-8dac-1bac63672ea7",
        "nbgrader": {
          "cell_type": "code",
          "checksum": "801d13cb2a998d3fe0ac43a43aafa21e",
          "grade": false,
          "grade_id": "cell-651def1b6c1a52b6",
          "locked": false,
          "schema_version": 3,
          "solution": true,
          "task": false
        }
      },
      "outputs": [],
      "source": [
        "# YOUR CODE HERE\n",
        "raise NotImplementedError()"
      ]
    },
    {
      "cell_type": "code",
      "execution_count": null,
      "id": "990ee09f-7c93-4ccf-9ff9-eff9a6d772f1",
      "metadata": {
        "deletable": false,
        "editable": false,
        "id": "990ee09f-7c93-4ccf-9ff9-eff9a6d772f1",
        "nbgrader": {
          "cell_type": "code",
          "checksum": "1647b9fff8511e08b9e0775e030720a6",
          "grade": true,
          "grade_id": "cell-f3ed67874a568322",
          "locked": true,
          "points": 5,
          "schema_version": 3,
          "solution": false,
          "task": false
        }
      },
      "outputs": [],
      "source": [
        "%%time\n",
        "assert config['cls'] == 'ImplicitALSWrapperModel'\n",
        "\n",
        "model = model_from_config(config)\n",
        "model.fit(dataset_with_features)\n",
        "\n",
        "recos = model.recommend(\n",
        "    users=hot_users,\n",
        "    dataset=dataset_with_features,\n",
        "    k=K_RECOS,\n",
        "    filter_viewed=True,\n",
        ")\n",
        "print(map10.calc(recos, test))\n",
        "\n",
        "assert map10.calc(recos, test) >= 0.073"
      ]
    },
    {
      "cell_type": "markdown",
      "id": "90db2890-cd95-4d87-bcd6-daea1ac3ebaf",
      "metadata": {
        "deletable": false,
        "editable": false,
        "id": "90db2890-cd95-4d87-bcd6-daea1ac3ebaf",
        "nbgrader": {
          "cell_type": "markdown",
          "checksum": "78909d2aae6602db543a1c1bb5f15c9f",
          "grade": false,
          "grade_id": "cell-be7c982c198ab7fa",
          "locked": true,
          "schema_version": 3,
          "solution": false,
          "task": false
        }
      },
      "source": [
        "## LightFM with features\n",
        "\n",
        "И снова ор выше гор, ваш пайплайн подготовки датасета помог вам в очередной раз обойти вашего коллегу.\n",
        "\n",
        "Не зная, к чему еще аппелировать, он зовет вашего старшего коллегу, чтобы тот внимательно изучил полученные результаты.\n",
        "\n",
        "\"iALS с фичами это хорошо, но тут стоит попробовать факторизационные машины, попробуйте `LightFM`\" - заключает он. Вы переключаетесь на изучение новой библиотеки, предвкушая финальный раунд.\n",
        "\n",
        "Ваш коллега смог выжать из своего обновленного `Dataset` и `LightFM` скор `MAP@10 = 0.08`. Последний рывок."
      ]
    },
    {
      "cell_type": "code",
      "execution_count": null,
      "id": "354dab72-6e5b-428e-876a-08087f5fb066",
      "metadata": {
        "deletable": false,
        "id": "354dab72-6e5b-428e-876a-08087f5fb066",
        "nbgrader": {
          "cell_type": "code",
          "checksum": "efcc708838dc41e23a742fd27c720556",
          "grade": false,
          "grade_id": "cell-cec5f5df8bfd0aca",
          "locked": false,
          "schema_version": 3,
          "solution": true,
          "task": false
        }
      },
      "outputs": [],
      "source": [
        "# YOUR CODE HERE\n",
        "raise NotImplementedError()"
      ]
    },
    {
      "cell_type": "code",
      "execution_count": null,
      "id": "77081fd4-13f2-46c7-88d2-e2a716d00216",
      "metadata": {
        "deletable": false,
        "editable": false,
        "id": "77081fd4-13f2-46c7-88d2-e2a716d00216",
        "nbgrader": {
          "cell_type": "code",
          "checksum": "a4709d6a6bd4ee8dc0429b7c665404b1",
          "grade": true,
          "grade_id": "cell-754f9152c2a343a5",
          "locked": true,
          "points": 5,
          "schema_version": 3,
          "solution": false,
          "task": false
        }
      },
      "outputs": [],
      "source": [
        "%%time\n",
        "assert config['cls'] == 'LightFMWrapperModel'\n",
        "\n",
        "model = model_from_config(config)\n",
        "model.fit(dataset_with_features)\n",
        "\n",
        "recos = model.recommend(\n",
        "    users=hot_users,\n",
        "    dataset=dataset_with_features,\n",
        "    k=K_RECOS,\n",
        "    filter_viewed=True,\n",
        ")\n",
        "print(map10.calc(recos, test))\n",
        "\n",
        "assert map10.calc(recos, test) >= 0.08"
      ]
    },
    {
      "cell_type": "markdown",
      "id": "d66532fb-7c3d-42a9-80cb-b93b27607b51",
      "metadata": {
        "deletable": false,
        "editable": false,
        "id": "d66532fb-7c3d-42a9-80cb-b93b27607b51",
        "nbgrader": {
          "cell_type": "markdown",
          "checksum": "0454bd766dd9f1f03ac555efdbc643de",
          "grade": false,
          "grade_id": "cell-118d671fe7000a31",
          "locked": true,
          "schema_version": 3,
          "solution": false,
          "task": false
        }
      },
      "source": [
        "## Сервис\n",
        "\n",
        "Эта битва была легендарной, но вот за спиной опять появляется ваш продакт.\n",
        "\n",
        "\"Время катить АБ\" - говорит он в пятницу вечером. Делать нечего, вы собираете ваши наработки и определяете совместный фронт работ.\n",
        "\n",
        "В прод должна заехать лучшая модель, которая побьет текущей модели в проде в `MAP@10 = 0.075`.\n",
        "\n",
        "Также есть бонус от вашего старшего коллеги, который вам советует присмотреться к `Approximate nearest neighbours`, например к `nmslib`.\n",
        "\n",
        "\"Если сможешь обернуть в ANN, то на следующем годовом ревью получишь от меня оценку отлично\" - сказал он. Изучить новые технологии и получить повышение - идеально, заключаете вы и бросаетесь в бой."
      ]
    },
    {
      "cell_type": "markdown",
      "id": "920eaf23-c2e5-4022-9641-b32d24cef82a",
      "metadata": {
        "deletable": false,
        "editable": false,
        "id": "920eaf23-c2e5-4022-9641-b32d24cef82a",
        "nbgrader": {
          "cell_type": "markdown",
          "checksum": "a48a2bfc2446054cb0f506b90a8a05aa",
          "grade": false,
          "grade_id": "cell-992a2a7a692d4927",
          "locked": true,
          "schema_version": 3,
          "solution": false,
          "task": false
        }
      },
      "source": [
        "# Вместо заключения\n",
        "\n",
        "## Задачи - 25 баллов (30 баллов с доп задачей по ANN)\n",
        "1. Ноутбук `mf.ipynb` - 20 баллов\n",
        "- SVD - 5 баллов\n",
        "- ImplicitALS - 5 баллов\n",
        "- ImplicitALS with features - 5 баллов\n",
        "- LightFM with features - 5 баллов\n",
        "2. Имплементация модели в сервис - 5 баллов\n",
        "- Пробить на Leaderboard порог `map@10 = 0.075`\n",
        "- Если при этом используете MF (Implicit или LightFM) + ANN (nmslib, faiss, annoy и тд) - дополнительно 5 баллов\n",
        "  \n",
        "## Как сдать ноутбук `mf.ipynb` на проверку\n",
        "\n",
        "1. Прогоните весь код ноутбука - проверьте, что нет ошибок и тесты проходят\n",
        "2. Выложите готовый ноутбук в ваш репозиторий с сервисом из домашнего задания №1 по пути `notebooks/hw_4/mf.ipynb` в ветке `hw_4`\n",
        "3. Проверьте, что есть доступ к вашему репозиторию для аккаунтов `https://github.com/feldlime`\n",
        "4. Откройте PR в main ветку и добавьте в ревьюеры **своего ментора**\n",
        "5. Не проводите мердж в `main` ветку, пока не увидите оценку за это ДЗ в ведомости. Файл с ноутбуком должен находиться в ветке `hw_4`\n",
        "\n",
        "Обратите внимание, что сборка ноутбуков на проверку автоматизирована. В случае неправильного пути, имени файла или ветки (а также при отсутствии доступа у `@feldlime`) ваша работа не попадёт на проверку и получит `0` баллов."
      ]
    }
  ],
  "metadata": {
    "colab": {
      "gpuType": "T4",
      "provenance": []
    },
    "kernelspec": {
      "display_name": "Python 3",
      "name": "python3"
    },
    "language_info": {
      "name": "python"
    },
    "widgets": {
      "application/vnd.jupyter.widget-state+json": {
        "0356ee375b1c475c855ac9d2524b060a": {
          "model_module": "@jupyter-widgets/base",
          "model_module_version": "1.2.0",
          "model_name": "LayoutModel",
          "state": {
            "_model_module": "@jupyter-widgets/base",
            "_model_module_version": "1.2.0",
            "_model_name": "LayoutModel",
            "_view_count": null,
            "_view_module": "@jupyter-widgets/base",
            "_view_module_version": "1.2.0",
            "_view_name": "LayoutView",
            "align_content": null,
            "align_items": null,
            "align_self": null,
            "border": null,
            "bottom": null,
            "display": null,
            "flex": null,
            "flex_flow": null,
            "grid_area": null,
            "grid_auto_columns": null,
            "grid_auto_flow": null,
            "grid_auto_rows": null,
            "grid_column": null,
            "grid_gap": null,
            "grid_row": null,
            "grid_template_areas": null,
            "grid_template_columns": null,
            "grid_template_rows": null,
            "height": null,
            "justify_content": null,
            "justify_items": null,
            "left": null,
            "margin": null,
            "max_height": null,
            "max_width": null,
            "min_height": null,
            "min_width": null,
            "object_fit": null,
            "object_position": null,
            "order": null,
            "overflow": null,
            "overflow_x": null,
            "overflow_y": null,
            "padding": null,
            "right": null,
            "top": null,
            "visibility": null,
            "width": null
          }
        },
        "0a85f2ee86a14bc99c0fcc2f5460e6b1": {
          "model_module": "@jupyter-widgets/base",
          "model_module_version": "1.2.0",
          "model_name": "LayoutModel",
          "state": {
            "_model_module": "@jupyter-widgets/base",
            "_model_module_version": "1.2.0",
            "_model_name": "LayoutModel",
            "_view_count": null,
            "_view_module": "@jupyter-widgets/base",
            "_view_module_version": "1.2.0",
            "_view_name": "LayoutView",
            "align_content": null,
            "align_items": null,
            "align_self": null,
            "border": null,
            "bottom": null,
            "display": null,
            "flex": null,
            "flex_flow": null,
            "grid_area": null,
            "grid_auto_columns": null,
            "grid_auto_flow": null,
            "grid_auto_rows": null,
            "grid_column": null,
            "grid_gap": null,
            "grid_row": null,
            "grid_template_areas": null,
            "grid_template_columns": null,
            "grid_template_rows": null,
            "height": null,
            "justify_content": null,
            "justify_items": null,
            "left": null,
            "margin": null,
            "max_height": null,
            "max_width": null,
            "min_height": null,
            "min_width": null,
            "object_fit": null,
            "object_position": null,
            "order": null,
            "overflow": null,
            "overflow_x": null,
            "overflow_y": null,
            "padding": null,
            "right": null,
            "top": null,
            "visibility": null,
            "width": null
          }
        },
        "184e19d9e2814be0a15203b86b0ca546": {
          "model_module": "@jupyter-widgets/controls",
          "model_module_version": "1.5.0",
          "model_name": "ProgressStyleModel",
          "state": {
            "_model_module": "@jupyter-widgets/controls",
            "_model_module_version": "1.5.0",
            "_model_name": "ProgressStyleModel",
            "_view_count": null,
            "_view_module": "@jupyter-widgets/base",
            "_view_module_version": "1.2.0",
            "_view_name": "StyleView",
            "bar_color": null,
            "description_width": ""
          }
        },
        "1bfb430349d0409d97af3e58f872a0a4": {
          "model_module": "@jupyter-widgets/base",
          "model_module_version": "1.2.0",
          "model_name": "LayoutModel",
          "state": {
            "_model_module": "@jupyter-widgets/base",
            "_model_module_version": "1.2.0",
            "_model_name": "LayoutModel",
            "_view_count": null,
            "_view_module": "@jupyter-widgets/base",
            "_view_module_version": "1.2.0",
            "_view_name": "LayoutView",
            "align_content": null,
            "align_items": null,
            "align_self": null,
            "border": null,
            "bottom": null,
            "display": null,
            "flex": null,
            "flex_flow": null,
            "grid_area": null,
            "grid_auto_columns": null,
            "grid_auto_flow": null,
            "grid_auto_rows": null,
            "grid_column": null,
            "grid_gap": null,
            "grid_row": null,
            "grid_template_areas": null,
            "grid_template_columns": null,
            "grid_template_rows": null,
            "height": null,
            "justify_content": null,
            "justify_items": null,
            "left": null,
            "margin": null,
            "max_height": null,
            "max_width": null,
            "min_height": null,
            "min_width": null,
            "object_fit": null,
            "object_position": null,
            "order": null,
            "overflow": null,
            "overflow_x": null,
            "overflow_y": null,
            "padding": null,
            "right": null,
            "top": null,
            "visibility": null,
            "width": null
          }
        },
        "2957c9c06523405885fb2ac1dc20e09b": {
          "model_module": "@jupyter-widgets/controls",
          "model_module_version": "1.5.0",
          "model_name": "FloatProgressModel",
          "state": {
            "_dom_classes": [],
            "_model_module": "@jupyter-widgets/controls",
            "_model_module_version": "1.5.0",
            "_model_name": "FloatProgressModel",
            "_view_count": null,
            "_view_module": "@jupyter-widgets/controls",
            "_view_module_version": "1.5.0",
            "_view_name": "ProgressView",
            "bar_style": "success",
            "description": "",
            "description_tooltip": null,
            "layout": "IPY_MODEL_a31e361539d4453686b0252a21d60346",
            "max": 25,
            "min": 0,
            "orientation": "horizontal",
            "style": "IPY_MODEL_184e19d9e2814be0a15203b86b0ca546",
            "value": 25
          }
        },
        "44a5cb9e78ed4ed39b68fb67fd1f3c9a": {
          "model_module": "@jupyter-widgets/controls",
          "model_module_version": "1.5.0",
          "model_name": "HBoxModel",
          "state": {
            "_dom_classes": [],
            "_model_module": "@jupyter-widgets/controls",
            "_model_module_version": "1.5.0",
            "_model_name": "HBoxModel",
            "_view_count": null,
            "_view_module": "@jupyter-widgets/controls",
            "_view_module_version": "1.5.0",
            "_view_name": "HBoxView",
            "box_style": "",
            "children": [
              "IPY_MODEL_5a0717662fbe4870bc7400e260621ca4",
              "IPY_MODEL_2957c9c06523405885fb2ac1dc20e09b",
              "IPY_MODEL_8c66f904699a401ca2094b57acf5ab23"
            ],
            "layout": "IPY_MODEL_0356ee375b1c475c855ac9d2524b060a"
          }
        },
        "4b6827a906fa4a88a4d7bf56a7ced748": {
          "model_module": "@jupyter-widgets/controls",
          "model_module_version": "1.5.0",
          "model_name": "HBoxModel",
          "state": {
            "_dom_classes": [],
            "_model_module": "@jupyter-widgets/controls",
            "_model_module_version": "1.5.0",
            "_model_name": "HBoxModel",
            "_view_count": null,
            "_view_module": "@jupyter-widgets/controls",
            "_view_module_version": "1.5.0",
            "_view_name": "HBoxView",
            "box_style": "",
            "children": [
              "IPY_MODEL_5be428e1a443456a9aab6df23b0254d0",
              "IPY_MODEL_83dea24ebd1f4a64b44d587c640853ce",
              "IPY_MODEL_4bc238f7cc7b4c0894b2a8ef6f944e66"
            ],
            "layout": "IPY_MODEL_1bfb430349d0409d97af3e58f872a0a4"
          }
        },
        "4bc238f7cc7b4c0894b2a8ef6f944e66": {
          "model_module": "@jupyter-widgets/controls",
          "model_module_version": "1.5.0",
          "model_name": "HTMLModel",
          "state": {
            "_dom_classes": [],
            "_model_module": "@jupyter-widgets/controls",
            "_model_module_version": "1.5.0",
            "_model_name": "HTMLModel",
            "_view_count": null,
            "_view_module": "@jupyter-widgets/controls",
            "_view_module_version": "1.5.0",
            "_view_name": "HTMLView",
            "description": "",
            "description_tooltip": null,
            "layout": "IPY_MODEL_8c934d79d5d44828a3cd457ca65cac4a",
            "placeholder": "​",
            "style": "IPY_MODEL_b770ad2f780d43388f7cebb124b4d91b",
            "value": " 78.8M/78.8M [00:11&lt;00:00, 79.9MiB/s]"
          }
        },
        "50382f18a7f2448a88618bf79fff2421": {
          "model_module": "@jupyter-widgets/controls",
          "model_module_version": "1.5.0",
          "model_name": "DescriptionStyleModel",
          "state": {
            "_model_module": "@jupyter-widgets/controls",
            "_model_module_version": "1.5.0",
            "_model_name": "DescriptionStyleModel",
            "_view_count": null,
            "_view_module": "@jupyter-widgets/base",
            "_view_module_version": "1.2.0",
            "_view_name": "StyleView",
            "description_width": ""
          }
        },
        "5a0717662fbe4870bc7400e260621ca4": {
          "model_module": "@jupyter-widgets/controls",
          "model_module_version": "1.5.0",
          "model_name": "HTMLModel",
          "state": {
            "_dom_classes": [],
            "_model_module": "@jupyter-widgets/controls",
            "_model_module_version": "1.5.0",
            "_model_name": "HTMLModel",
            "_view_count": null,
            "_view_module": "@jupyter-widgets/controls",
            "_view_module_version": "1.5.0",
            "_view_name": "HTMLView",
            "description": "",
            "description_tooltip": null,
            "layout": "IPY_MODEL_6bd66aad6b474703b51d5a5d57f9ee15",
            "placeholder": "​",
            "style": "IPY_MODEL_e0bbabba39e847b08f811717c8b2df85",
            "value": "100%"
          }
        },
        "5be428e1a443456a9aab6df23b0254d0": {
          "model_module": "@jupyter-widgets/controls",
          "model_module_version": "1.5.0",
          "model_name": "HTMLModel",
          "state": {
            "_dom_classes": [],
            "_model_module": "@jupyter-widgets/controls",
            "_model_module_version": "1.5.0",
            "_model_name": "HTMLModel",
            "_view_count": null,
            "_view_module": "@jupyter-widgets/controls",
            "_view_module_version": "1.5.0",
            "_view_name": "HTMLView",
            "description": "",
            "description_tooltip": null,
            "layout": "IPY_MODEL_7b6cb909be70433c8c9a6f17b0964f4b",
            "placeholder": "​",
            "style": "IPY_MODEL_c41cfcb85411461a8e5f4b2938d89855",
            "value": "kion dataset download: 100%"
          }
        },
        "6a9f794e1d874c4285cb5403b3b6d399": {
          "model_module": "@jupyter-widgets/base",
          "model_module_version": "1.2.0",
          "model_name": "LayoutModel",
          "state": {
            "_model_module": "@jupyter-widgets/base",
            "_model_module_version": "1.2.0",
            "_model_name": "LayoutModel",
            "_view_count": null,
            "_view_module": "@jupyter-widgets/base",
            "_view_module_version": "1.2.0",
            "_view_name": "LayoutView",
            "align_content": null,
            "align_items": null,
            "align_self": null,
            "border": null,
            "bottom": null,
            "display": null,
            "flex": null,
            "flex_flow": null,
            "grid_area": null,
            "grid_auto_columns": null,
            "grid_auto_flow": null,
            "grid_auto_rows": null,
            "grid_column": null,
            "grid_gap": null,
            "grid_row": null,
            "grid_template_areas": null,
            "grid_template_columns": null,
            "grid_template_rows": null,
            "height": null,
            "justify_content": null,
            "justify_items": null,
            "left": null,
            "margin": null,
            "max_height": null,
            "max_width": null,
            "min_height": null,
            "min_width": null,
            "object_fit": null,
            "object_position": null,
            "order": null,
            "overflow": null,
            "overflow_x": null,
            "overflow_y": null,
            "padding": null,
            "right": null,
            "top": null,
            "visibility": null,
            "width": null
          }
        },
        "6bd66aad6b474703b51d5a5d57f9ee15": {
          "model_module": "@jupyter-widgets/base",
          "model_module_version": "1.2.0",
          "model_name": "LayoutModel",
          "state": {
            "_model_module": "@jupyter-widgets/base",
            "_model_module_version": "1.2.0",
            "_model_name": "LayoutModel",
            "_view_count": null,
            "_view_module": "@jupyter-widgets/base",
            "_view_module_version": "1.2.0",
            "_view_name": "LayoutView",
            "align_content": null,
            "align_items": null,
            "align_self": null,
            "border": null,
            "bottom": null,
            "display": null,
            "flex": null,
            "flex_flow": null,
            "grid_area": null,
            "grid_auto_columns": null,
            "grid_auto_flow": null,
            "grid_auto_rows": null,
            "grid_column": null,
            "grid_gap": null,
            "grid_row": null,
            "grid_template_areas": null,
            "grid_template_columns": null,
            "grid_template_rows": null,
            "height": null,
            "justify_content": null,
            "justify_items": null,
            "left": null,
            "margin": null,
            "max_height": null,
            "max_width": null,
            "min_height": null,
            "min_width": null,
            "object_fit": null,
            "object_position": null,
            "order": null,
            "overflow": null,
            "overflow_x": null,
            "overflow_y": null,
            "padding": null,
            "right": null,
            "top": null,
            "visibility": null,
            "width": null
          }
        },
        "7b6cb909be70433c8c9a6f17b0964f4b": {
          "model_module": "@jupyter-widgets/base",
          "model_module_version": "1.2.0",
          "model_name": "LayoutModel",
          "state": {
            "_model_module": "@jupyter-widgets/base",
            "_model_module_version": "1.2.0",
            "_model_name": "LayoutModel",
            "_view_count": null,
            "_view_module": "@jupyter-widgets/base",
            "_view_module_version": "1.2.0",
            "_view_name": "LayoutView",
            "align_content": null,
            "align_items": null,
            "align_self": null,
            "border": null,
            "bottom": null,
            "display": null,
            "flex": null,
            "flex_flow": null,
            "grid_area": null,
            "grid_auto_columns": null,
            "grid_auto_flow": null,
            "grid_auto_rows": null,
            "grid_column": null,
            "grid_gap": null,
            "grid_row": null,
            "grid_template_areas": null,
            "grid_template_columns": null,
            "grid_template_rows": null,
            "height": null,
            "justify_content": null,
            "justify_items": null,
            "left": null,
            "margin": null,
            "max_height": null,
            "max_width": null,
            "min_height": null,
            "min_width": null,
            "object_fit": null,
            "object_position": null,
            "order": null,
            "overflow": null,
            "overflow_x": null,
            "overflow_y": null,
            "padding": null,
            "right": null,
            "top": null,
            "visibility": null,
            "width": null
          }
        },
        "83dea24ebd1f4a64b44d587c640853ce": {
          "model_module": "@jupyter-widgets/controls",
          "model_module_version": "1.5.0",
          "model_name": "FloatProgressModel",
          "state": {
            "_dom_classes": [],
            "_model_module": "@jupyter-widgets/controls",
            "_model_module_version": "1.5.0",
            "_model_name": "FloatProgressModel",
            "_view_count": null,
            "_view_module": "@jupyter-widgets/controls",
            "_view_module_version": "1.5.0",
            "_view_name": "ProgressView",
            "bar_style": "",
            "description": "",
            "description_tooltip": null,
            "layout": "IPY_MODEL_0a85f2ee86a14bc99c0fcc2f5460e6b1",
            "max": 78795295,
            "min": 0,
            "orientation": "horizontal",
            "style": "IPY_MODEL_fd737ae1d5fc4ecbba5fce074a9e9bce",
            "value": 78795295
          }
        },
        "8c66f904699a401ca2094b57acf5ab23": {
          "model_module": "@jupyter-widgets/controls",
          "model_module_version": "1.5.0",
          "model_name": "HTMLModel",
          "state": {
            "_dom_classes": [],
            "_model_module": "@jupyter-widgets/controls",
            "_model_module_version": "1.5.0",
            "_model_name": "HTMLModel",
            "_view_count": null,
            "_view_module": "@jupyter-widgets/controls",
            "_view_module_version": "1.5.0",
            "_view_name": "HTMLView",
            "description": "",
            "description_tooltip": null,
            "layout": "IPY_MODEL_6a9f794e1d874c4285cb5403b3b6d399",
            "placeholder": "​",
            "style": "IPY_MODEL_50382f18a7f2448a88618bf79fff2421",
            "value": " 25/25 [01:23&lt;00:00,  3.43s/it]"
          }
        },
        "8c934d79d5d44828a3cd457ca65cac4a": {
          "model_module": "@jupyter-widgets/base",
          "model_module_version": "1.2.0",
          "model_name": "LayoutModel",
          "state": {
            "_model_module": "@jupyter-widgets/base",
            "_model_module_version": "1.2.0",
            "_model_name": "LayoutModel",
            "_view_count": null,
            "_view_module": "@jupyter-widgets/base",
            "_view_module_version": "1.2.0",
            "_view_name": "LayoutView",
            "align_content": null,
            "align_items": null,
            "align_self": null,
            "border": null,
            "bottom": null,
            "display": null,
            "flex": null,
            "flex_flow": null,
            "grid_area": null,
            "grid_auto_columns": null,
            "grid_auto_flow": null,
            "grid_auto_rows": null,
            "grid_column": null,
            "grid_gap": null,
            "grid_row": null,
            "grid_template_areas": null,
            "grid_template_columns": null,
            "grid_template_rows": null,
            "height": null,
            "justify_content": null,
            "justify_items": null,
            "left": null,
            "margin": null,
            "max_height": null,
            "max_width": null,
            "min_height": null,
            "min_width": null,
            "object_fit": null,
            "object_position": null,
            "order": null,
            "overflow": null,
            "overflow_x": null,
            "overflow_y": null,
            "padding": null,
            "right": null,
            "top": null,
            "visibility": null,
            "width": null
          }
        },
        "a31e361539d4453686b0252a21d60346": {
          "model_module": "@jupyter-widgets/base",
          "model_module_version": "1.2.0",
          "model_name": "LayoutModel",
          "state": {
            "_model_module": "@jupyter-widgets/base",
            "_model_module_version": "1.2.0",
            "_model_name": "LayoutModel",
            "_view_count": null,
            "_view_module": "@jupyter-widgets/base",
            "_view_module_version": "1.2.0",
            "_view_name": "LayoutView",
            "align_content": null,
            "align_items": null,
            "align_self": null,
            "border": null,
            "bottom": null,
            "display": null,
            "flex": null,
            "flex_flow": null,
            "grid_area": null,
            "grid_auto_columns": null,
            "grid_auto_flow": null,
            "grid_auto_rows": null,
            "grid_column": null,
            "grid_gap": null,
            "grid_row": null,
            "grid_template_areas": null,
            "grid_template_columns": null,
            "grid_template_rows": null,
            "height": null,
            "justify_content": null,
            "justify_items": null,
            "left": null,
            "margin": null,
            "max_height": null,
            "max_width": null,
            "min_height": null,
            "min_width": null,
            "object_fit": null,
            "object_position": null,
            "order": null,
            "overflow": null,
            "overflow_x": null,
            "overflow_y": null,
            "padding": null,
            "right": null,
            "top": null,
            "visibility": null,
            "width": null
          }
        },
        "b770ad2f780d43388f7cebb124b4d91b": {
          "model_module": "@jupyter-widgets/controls",
          "model_module_version": "1.5.0",
          "model_name": "DescriptionStyleModel",
          "state": {
            "_model_module": "@jupyter-widgets/controls",
            "_model_module_version": "1.5.0",
            "_model_name": "DescriptionStyleModel",
            "_view_count": null,
            "_view_module": "@jupyter-widgets/base",
            "_view_module_version": "1.2.0",
            "_view_name": "StyleView",
            "description_width": ""
          }
        },
        "c41cfcb85411461a8e5f4b2938d89855": {
          "model_module": "@jupyter-widgets/controls",
          "model_module_version": "1.5.0",
          "model_name": "DescriptionStyleModel",
          "state": {
            "_model_module": "@jupyter-widgets/controls",
            "_model_module_version": "1.5.0",
            "_model_name": "DescriptionStyleModel",
            "_view_count": null,
            "_view_module": "@jupyter-widgets/base",
            "_view_module_version": "1.2.0",
            "_view_name": "StyleView",
            "description_width": ""
          }
        },
        "e0bbabba39e847b08f811717c8b2df85": {
          "model_module": "@jupyter-widgets/controls",
          "model_module_version": "1.5.0",
          "model_name": "DescriptionStyleModel",
          "state": {
            "_model_module": "@jupyter-widgets/controls",
            "_model_module_version": "1.5.0",
            "_model_name": "DescriptionStyleModel",
            "_view_count": null,
            "_view_module": "@jupyter-widgets/base",
            "_view_module_version": "1.2.0",
            "_view_name": "StyleView",
            "description_width": ""
          }
        },
        "fd737ae1d5fc4ecbba5fce074a9e9bce": {
          "model_module": "@jupyter-widgets/controls",
          "model_module_version": "1.5.0",
          "model_name": "ProgressStyleModel",
          "state": {
            "_model_module": "@jupyter-widgets/controls",
            "_model_module_version": "1.5.0",
            "_model_name": "ProgressStyleModel",
            "_view_count": null,
            "_view_module": "@jupyter-widgets/base",
            "_view_module_version": "1.2.0",
            "_view_name": "StyleView",
            "bar_color": null,
            "description_width": ""
          }
        }
      }
    }
  },
  "nbformat": 4,
  "nbformat_minor": 5
}
